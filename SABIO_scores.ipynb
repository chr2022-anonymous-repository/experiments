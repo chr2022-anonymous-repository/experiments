{
 "cells": [
  {
   "cell_type": "code",
   "execution_count": 1,
   "id": "498e944b",
   "metadata": {},
   "outputs": [
    {
     "name": "stderr",
     "output_type": "stream",
     "text": [
      "2022-08-19 18:27:27.233519: W tensorflow/stream_executor/platform/default/dso_loader.cc:64] Could not load dynamic library 'libcudart.so.11.0'; dlerror: libcudart.so.11.0: cannot open shared object file: No such file or directory\n",
      "2022-08-19 18:27:27.233548: I tensorflow/stream_executor/cuda/cudart_stub.cc:29] Ignore above cudart dlerror if you do not have a GPU set up on your machine.\n",
      "2022-08-19 18:27:29.726342: W tensorflow/stream_executor/platform/default/dso_loader.cc:64] Could not load dynamic library 'libcuda.so.1'; dlerror: libcuda.so.1: cannot open shared object file: No such file or directory\n",
      "2022-08-19 18:27:29.726384: W tensorflow/stream_executor/cuda/cuda_driver.cc:269] failed call to cuInit: UNKNOWN ERROR (303)\n",
      "2022-08-19 18:27:29.726411: I tensorflow/stream_executor/cuda/cuda_diagnostics.cc:156] kernel driver does not appear to be running on this host (valentin-hp): /proc/driver/nvidia/version does not exist\n"
     ]
    }
   ],
   "source": [
    "from utils_ConConCor import *\n",
    "from utils_SABIO import *\n",
    "from utils_nlp import *"
   ]
  },
  {
   "cell_type": "code",
   "execution_count": 2,
   "id": "d5dd681b",
   "metadata": {},
   "outputs": [],
   "source": [
    "ccc = get_CCC_DF()\n",
    "trgts = ccc.target.unique()\n",
    "\n",
    "nmvw = get_NMvW_DF().sort_index()"
   ]
  },
  {
   "cell_type": "code",
   "execution_count": null,
   "id": "0226f02b",
   "metadata": {},
   "outputs": [],
   "source": [
    "score_df = pd.read_csv(\"SABIO_scores_10_08_2022.csv\").set_index(\"ID\")"
   ]
  },
  {
   "cell_type": "code",
   "execution_count": null,
   "id": "085f18af",
   "metadata": {},
   "outputs": [],
   "source": [
    "sns.pairplot(score_df.sample(50000))"
   ]
  },
  {
   "cell_type": "code",
   "execution_count": null,
   "id": "6e2640fa",
   "metadata": {},
   "outputs": [],
   "source": [
    "pearson_corrs = score_df.corr(\"pearson\")\n",
    "normed = pearson_corrs/score_df.std()**.5\n",
    "sns.heatmap(pearson_corrs)"
   ]
  },
  {
   "cell_type": "code",
   "execution_count": null,
   "id": "50a7ec93",
   "metadata": {},
   "outputs": [],
   "source": [
    "score_df.corr(\"spearman\")"
   ]
  }
 ],
 "metadata": {
  "kernelspec": {
   "display_name": "Python 3 (ipykernel)",
   "language": "python",
   "name": "python3"
  },
  "language_info": {
   "codemirror_mode": {
    "name": "ipython",
    "version": 3
   },
   "file_extension": ".py",
   "mimetype": "text/x-python",
   "name": "python",
   "nbconvert_exporter": "python",
   "pygments_lexer": "ipython3",
   "version": "3.10.5"
  }
 },
 "nbformat": 4,
 "nbformat_minor": 5
}
